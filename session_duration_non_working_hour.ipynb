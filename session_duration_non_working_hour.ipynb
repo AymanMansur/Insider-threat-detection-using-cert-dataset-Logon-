{
  "nbformat": 4,
  "nbformat_minor": 0,
  "metadata": {
    "colab": {
      "provenance": [],
      "mount_file_id": "19WhRVjUOJEA43v7oYthqhIkrkKrnvt74",
      "authorship_tag": "ABX9TyOiJxL68VQInCHi7S2kM8OI",
      "include_colab_link": true
    },
    "kernelspec": {
      "name": "python3",
      "display_name": "Python 3"
    },
    "language_info": {
      "name": "python"
    }
  },
  "cells": [
    {
      "cell_type": "markdown",
      "metadata": {
        "id": "view-in-github",
        "colab_type": "text"
      },
      "source": [
        "<a href=\"https://colab.research.google.com/github/AymanMansur/Insider-threat-detection-using-cert-dataset-Logon-/blob/main/session_duration_non_working_hour.ipynb\" target=\"_parent\"><img src=\"https://colab.research.google.com/assets/colab-badge.svg\" alt=\"Open In Colab\"/></a>"
      ]
    },
    {
      "cell_type": "markdown",
      "source": [
        "# **Import Libraries**"
      ],
      "metadata": {
        "id": "Map0dR7jzgWS"
      }
    },
    {
      "cell_type": "code",
      "execution_count": null,
      "metadata": {
        "id": "MyATdpqUGaWN"
      },
      "outputs": [],
      "source": [
        "import pandas as pd\n",
        "from datetime import datetime, time"
      ]
    },
    {
      "cell_type": "code",
      "source": [
        "df = pd.read_excel('/content/drive/MyDrive/dataset/single user dataset/DNS1758.xlsx', sheet_name='Sheet1')"
      ],
      "metadata": {
        "id": "HdwDcwdZE3fs"
      },
      "execution_count": null,
      "outputs": []
    },
    {
      "cell_type": "markdown",
      "source": [
        "***Convert the \"date\" column in df to actual datetime objects so we can perform time-based operations***"
      ],
      "metadata": {
        "id": "IwTqXEOhzkYQ"
      }
    },
    {
      "cell_type": "code",
      "source": [
        "# Convert date column to datetime\n",
        "df['date'] = pd.to_datetime(df['date'])"
      ],
      "metadata": {
        "id": "bcQrWYQJFAmx"
      },
      "execution_count": null,
      "outputs": []
    },
    {
      "cell_type": "markdown",
      "source": [
        "***Sort the DataFrame by 'date' in ascending order and reset the index to ensure a clean 0-based index***"
      ],
      "metadata": {
        "id": "RnogaiO3zwr_"
      }
    },
    {
      "cell_type": "code",
      "source": [
        "# Sort by date\n",
        "df = df.sort_values('date').reset_index(drop=True)"
      ],
      "metadata": {
        "id": "1NT3p2NMFGkr"
      },
      "execution_count": null,
      "outputs": []
    },
    {
      "cell_type": "markdown",
      "source": [
        "# **Tracking Logons and Logoffs to Build Sessions**\n",
        "\n",
        "*   **pending_logons:** A dictionary used to keep track of logon events that haven't yet been paired with a logoff\n",
        "*   **sessions:** A list that will store each completed session (a pair of logon and logoff events)\n",
        "*   The code loops through each row in the DataFrame\n",
        "\n",
        "---\n",
        "\n",
        "*   **For logon event:** A key is created based on the user and the PC ((row['user'],row['pc'])). The logon time (from the 'date' column) is stored in the pending_logons dictionary using this key.\n",
        "\n",
        "---\n",
        "*   **For logoff event:** The same key is generated. If the key exists in pending_logons (i.e there was a corresponding logon), the logon time is retrieved and removed from the dictionary.\n",
        "*   A session dictionary is created with the user, pc, start (logon time), and the end (logoff time) and is appended to the session list.\n",
        "\n",
        "\n",
        "\n",
        "\n",
        "\n",
        "\n"
      ],
      "metadata": {
        "id": "yYqkJXXkz8Co"
      }
    },
    {
      "cell_type": "code",
      "source": [
        "# Track pending logons and process sessions\n",
        "pending_logons = {}\n",
        "sessions = []\n",
        "\n",
        "for idx, row in df.iterrows():\n",
        "    if row['activity'] == 'Logon':\n",
        "        key = (row['user'], row['pc'])\n",
        "        pending_logons[key] = row['date']\n",
        "    elif row['activity'] == 'Logoff':\n",
        "        key = (row['user'], row['pc'])\n",
        "        if key in pending_logons:\n",
        "            logon_time = pending_logons.pop(key)\n",
        "            logoff_time = row['date']\n",
        "            sessions.append({\n",
        "                'user': row['user'],\n",
        "                'pc': row['pc'],\n",
        "                'start': logon_time,\n",
        "                'end': logoff_time\n",
        "            })"
      ],
      "metadata": {
        "id": "w2-kt892FIrU"
      },
      "execution_count": null,
      "outputs": []
    },
    {
      "cell_type": "markdown",
      "source": [
        "# **Function to calculate non working hours overlap**\n",
        "\n",
        "***Purpose: This function calculates the total amount of time between start_dt and end_dt tht falls into \"non-working hours\"***\n",
        "\n",
        "---\n",
        "**Non-working hour**\n",
        "\n",
        "1.   from 12:00:00 AM to 05:59:50 AM\n",
        "2.   from 18:00:01 PM to 11:59:59 PM\n",
        "\n",
        "---\n",
        "Logic:\n",
        "\n",
        "*   The fucntion initializes a zero Timedelta for duration\n",
        "*   It then loops day by day from the start date to the end date\n",
        "*   For each day it defines the two non-working periods\n",
        "*   Then calculates the segment of the session that occurs within the current day.\n",
        "*   Computes the overlapping time between this segment and each non-working period.\n",
        "*   Adds any overlaps to the total duration\n",
        "*   Finally the function returns the total non-working duration."
      ],
      "metadata": {
        "id": "H3_3PcyI24YP"
      }
    },
    {
      "cell_type": "code",
      "source": [
        "# Function to calculate non-working overlap\n",
        "def calculate_non_working_duration(start_dt, end_dt):\n",
        "    duration = pd.Timedelta(0)\n",
        "    current_day = start_dt.date()\n",
        "    end_day = end_dt.date()\n",
        "\n",
        "    while current_day <= end_day:\n",
        "        day_start = datetime.combine(current_day, time(0, 0, 0))\n",
        "        non_work_start1 = datetime.combine(current_day, time(0, 0, 0))\n",
        "        non_work_end1 = datetime.combine(current_day, time(5, 59, 59))\n",
        "        non_work_start2 = datetime.combine(current_day, time(18, 0, 1))\n",
        "        non_work_end2 = datetime.combine(current_day, time(23, 59, 59))\n",
        "\n",
        "        seg_start = max(start_dt, day_start)\n",
        "        seg_end = min(end_dt, datetime.combine(current_day, time(23, 59, 59)))\n",
        "\n",
        "        if seg_start >= seg_end:\n",
        "            current_day += pd.Timedelta(days=1)\n",
        "            continue\n",
        "\n",
        "        # Overlap with first period (00:00-05:59:59)\n",
        "        overlap_start = max(seg_start, non_work_start1)\n",
        "        overlap_end = min(seg_end, non_work_end1)\n",
        "        if overlap_start < overlap_end:\n",
        "            duration += overlap_end - overlap_start\n",
        "\n",
        "        # Overlap with second period (18:00:01-23:59:59)\n",
        "        overlap_start = max(seg_start, non_work_start2)\n",
        "        overlap_end = min(seg_end, non_work_end2)\n",
        "        if overlap_start < overlap_end:\n",
        "            duration += overlap_end - overlap_start\n",
        "\n",
        "        current_day += pd.Timedelta(days=1)\n",
        "\n",
        "    return duration"
      ],
      "metadata": {
        "id": "GVjbdudNFNQr"
      },
      "execution_count": null,
      "outputs": []
    },
    {
      "cell_type": "markdown",
      "source": [
        "# **Calculate and Aggregate Non-working durations per day**\n",
        "*   Iterating over each session: For every session (which includes the start and end times)\n",
        "1.   Determine the overall duration: although the variable duration is computed, the code then breaks the session into individual days.\n",
        "2.   Breaking down by day: it iterates from the start day to the end day of session and for each day it defines the start (day_start) and end (day_end) times of the day.\n",
        "3.   It computes the portion of the session that falls within that day (seg_start and seg_end)\n",
        "4. It calculates how much of that day falls within non-working hours using the same calculate_non_working_duration function.\n",
        "5. it formats the day as a string (YYYY-MM-DD) and accumulates the non-working time in the daily_totals dictionary\n",
        "\n",
        "\n",
        "\n",
        "\n",
        "\n",
        "\n"
      ],
      "metadata": {
        "id": "9b2_4LJT5g97"
      }
    },
    {
      "cell_type": "code",
      "source": [
        "# Calculate non-working durations per session and aggregate by date\n",
        "daily_totals = {}\n",
        "\n",
        "for session in sessions:\n",
        "    start = session['start']\n",
        "    end = session['end']\n",
        "    duration = calculate_non_working_duration(start, end)\n",
        "\n",
        "    current_day = start.date()\n",
        "    end_day = end.date()\n",
        "    while current_day <= end_day:\n",
        "        day_start = datetime.combine(current_day, time(0, 0, 0))\n",
        "        day_end = datetime.combine(current_day, time(23, 59, 59))\n",
        "        seg_start = max(start, day_start)\n",
        "        seg_end = min(end, day_end)\n",
        "\n",
        "        day_duration = calculate_non_working_duration(seg_start, seg_end)\n",
        "        day_str = current_day.strftime('%Y-%m-%d')\n",
        "        if day_str not in daily_totals:\n",
        "            daily_totals[day_str] = pd.Timedelta(0)\n",
        "        daily_totals[day_str] += day_duration\n",
        "\n",
        "        current_day += pd.Timedelta(days=1)"
      ],
      "metadata": {
        "id": "IaiMa3OaFTHR"
      },
      "execution_count": null,
      "outputs": []
    },
    {
      "cell_type": "markdown",
      "source": [
        "# **Creating a result Dataframe and saving to excel**\n"
      ],
      "metadata": {
        "id": "77GUBKeT7zte"
      }
    },
    {
      "cell_type": "code",
      "source": [
        "# Convert to DataFrame and save to Excel\n",
        "result_df = pd.DataFrame(\n",
        "    sorted(daily_totals.items()),\n",
        "    columns=['Date', 'Duration']\n",
        ")\n"
      ],
      "metadata": {
        "id": "6xbKBHN1GEjQ"
      },
      "execution_count": null,
      "outputs": []
    },
    {
      "cell_type": "code",
      "source": [
        "# Convert Timedelta to HH:MM:SS format\n",
        "result_df['Duration'] = result_df['Duration'].apply(\n",
        "    lambda x: str(x).split('.')[0] if pd.notnull(x) else '00:00:00'\n",
        ")"
      ],
      "metadata": {
        "id": "yW-_MZneGG9C"
      },
      "execution_count": null,
      "outputs": []
    },
    {
      "cell_type": "code",
      "source": [
        "# Save to Excel\n",
        "result_df.to_excel('/content/drive/MyDrive/dataset/single user dataset/session_duration_off_workinghour.xlsx', index=False)\n",
        "\n",
        "print(\"Report saved to non_working_hours_report.xlsx\")"
      ],
      "metadata": {
        "colab": {
          "base_uri": "https://localhost:8080/"
        },
        "id": "zdt9e6zAGK-W",
        "outputId": "bc2349aa-1ed6-4835-9ccc-e07659765fec"
      },
      "execution_count": null,
      "outputs": [
        {
          "output_type": "stream",
          "name": "stdout",
          "text": [
            "Report saved to non_working_hours_report.xlsx\n"
          ]
        }
      ]
    }
  ]
}