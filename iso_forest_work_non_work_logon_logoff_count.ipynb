{
  "nbformat": 4,
  "nbformat_minor": 0,
  "metadata": {
    "colab": {
      "provenance": [],
      "mount_file_id": "1UDoMy-kP1nPnBlLq4KPzlwCAYD6UCP_s",
      "authorship_tag": "ABX9TyMCq7Fdfln40TYHY6dCLTZ9",
      "include_colab_link": true
    },
    "kernelspec": {
      "name": "python3",
      "display_name": "Python 3"
    },
    "language_info": {
      "name": "python"
    }
  },
  "cells": [
    {
      "cell_type": "markdown",
      "metadata": {
        "id": "view-in-github",
        "colab_type": "text"
      },
      "source": [
        "<a href=\"https://colab.research.google.com/github/AymanMansur/Insider-threat-detection-using-cert-dataset-Logon-/blob/main/iso_forest_work_non_work_logon_logoff_count.ipynb\" target=\"_parent\"><img src=\"https://colab.research.google.com/assets/colab-badge.svg\" alt=\"Open In Colab\"/></a>"
      ]
    },
    {
      "cell_type": "code",
      "execution_count": null,
      "metadata": {
        "id": "S1W1c6tQBGl0"
      },
      "outputs": [],
      "source": [
        "import pandas as pd\n",
        "from sklearn.ensemble import IsolationForest\n",
        "import matplotlib.pyplot as plt"
      ]
    },
    {
      "cell_type": "code",
      "source": [
        "df = pd.read_excel('/content/drive/MyDrive/dataset/single user dataset/work_non_work_logon_logoff_count/work_non_work_logon_logoff_count.xlsx')"
      ],
      "metadata": {
        "id": "wXQiOvS_B4bF"
      },
      "execution_count": null,
      "outputs": []
    },
    {
      "cell_type": "code",
      "source": [
        "# Convert 'Date' to datetime and set as index (optional)\n",
        "df['Date'] = pd.to_datetime(df['Date'])\n",
        "df.set_index('Date', inplace=True)"
      ],
      "metadata": {
        "id": "3VoKXEE8HG5A"
      },
      "execution_count": null,
      "outputs": []
    },
    {
      "cell_type": "code",
      "source": [
        "# Select the features for anomaly detection\n",
        "features = df[['Logon_work_hour', 'Logoff_work_hour',\n",
        "               'Logon_non_work_hour', 'Logoff_non_work_hour']]"
      ],
      "metadata": {
        "id": "85SjofGpHDXQ"
      },
      "execution_count": null,
      "outputs": []
    },
    {
      "cell_type": "code",
      "source": [
        "# Initialize and train the Isolation Forest model\n",
        "model = IsolationForest(random_state=42, contamination=0.05)  # Adjust contamination as needed\n",
        "model.fit(features)\n",
        "\n",
        "# Predict anomalies (-1 for anomalies, 1 for normal)\n",
        "df['anomaly'] = model.predict(features)\n",
        "\n",
        "# Extract anomalies\n",
        "anomalies = df[df['anomaly'] == -1]"
      ],
      "metadata": {
        "id": "lGa-4p1VHLtJ"
      },
      "execution_count": null,
      "outputs": []
    },
    {
      "cell_type": "code",
      "source": [
        "# Display results\n",
        "print(\"Detected Anomalies:\")\n",
        "print(anomalies[['Logon_work_hour', 'Logoff_work_hour',\n",
        "                 'Logon_non_work_hour', 'Logoff_non_work_hour']])"
      ],
      "metadata": {
        "id": "BWRUk4PKHO3g",
        "outputId": "c64017f3-0086-439f-a86a-16dc5236a654",
        "colab": {
          "base_uri": "https://localhost:8080/"
        }
      },
      "execution_count": null,
      "outputs": [
        {
          "output_type": "stream",
          "name": "stdout",
          "text": [
            "Detected Anomalies:\n",
            "            Logon_work_hour  Logoff_work_hour  Logon_non_work_hour  \\\n",
            "Date                                                                 \n",
            "2010-01-15                2                 1                    6   \n",
            "2010-03-06                6                 5                    0   \n",
            "2010-03-28                6                 5                    0   \n",
            "2010-03-31                6                 5                    0   \n",
            "2010-05-11                6                 5                    0   \n",
            "2010-05-27                0                 0                    1   \n",
            "\n",
            "            Logoff_non_work_hour  \n",
            "Date                              \n",
            "2010-01-15                     6  \n",
            "2010-03-06                     0  \n",
            "2010-03-28                     0  \n",
            "2010-03-31                     0  \n",
            "2010-05-11                     0  \n",
            "2010-05-27                     1  \n"
          ]
        }
      ]
    }
  ]
}